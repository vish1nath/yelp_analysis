{
 "cells": [
  {
   "cell_type": "code",
   "execution_count": 1,
   "metadata": {},
   "outputs": [],
   "source": [
    "import pandas as pd\n",
    "import sys\n",
    "import matplotlib.pyplot as plt\n",
    "import numpy as np\n",
    "from nltk.tokenize import sent_tokenize, word_tokenize,RegexpTokenizer\n",
    "import string\n",
    "import nltk\n",
    "from nltk.corpus import stopwords\n",
    "#import en_core_web_sm\n",
    "import gensim\n",
    "from sklearn.feature_extraction.text import TfidfVectorizer\n",
    "from sklearn.feature_extraction.text import TfidfTransformer\n",
    "from sklearn.feature_extraction.text import CountVectorizer\n",
    "from sklearn.metrics import make_scorer, accuracy_score,recall_score,roc_auc_score,f1_score,classification_report"
   ]
  },
  {
   "cell_type": "code",
   "execution_count": 2,
   "metadata": {},
   "outputs": [],
   "source": [
    "from gensim.test.utils import common_texts\n",
    "from gensim.models.doc2vec import Doc2Vec, TaggedDocument"
   ]
  },
  {
   "cell_type": "markdown",
   "metadata": {},
   "source": [
    "Read the reviews"
   ]
  },
  {
   "cell_type": "code",
   "execution_count": 3,
   "metadata": {},
   "outputs": [
    {
     "name": "stderr",
     "output_type": "stream",
     "text": [
      "/home/vishwa/anaconda3/lib/python3.6/site-packages/IPython/core/interactiveshell.py:2785: DtypeWarning: Columns (0,4) have mixed types. Specify dtype option on import or set low_memory=False.\n",
      "  interactivity=interactivity, compiler=compiler, result=result)\n"
     ]
    }
   ],
   "source": [
    "rev=pd.read_csv('yelp_review_exp.csv',encoding='UTF-8')"
   ]
  },
  {
   "cell_type": "markdown",
   "metadata": {},
   "source": [
    "Filter the category of Thai Restaurant reviews"
   ]
  },
  {
   "cell_type": "code",
   "execution_count": 4,
   "metadata": {},
   "outputs": [],
   "source": [
    "rev1=rev[rev.cat=='Restaurants Thai']"
   ]
  },
  {
   "cell_type": "markdown",
   "metadata": {},
   "source": [
    "Mark the target to predict,If the review is useful or not"
   ]
  },
  {
   "cell_type": "code",
   "execution_count": 5,
   "metadata": {},
   "outputs": [
    {
     "name": "stderr",
     "output_type": "stream",
     "text": [
      "/home/vishwa/anaconda3/lib/python3.6/site-packages/ipykernel_launcher.py:1: SettingWithCopyWarning: \n",
      "A value is trying to be set on a copy of a slice from a DataFrame.\n",
      "Try using .loc[row_indexer,col_indexer] = value instead\n",
      "\n",
      "See the caveats in the documentation: http://pandas.pydata.org/pandas-docs/stable/indexing.html#indexing-view-versus-copy\n",
      "  \"\"\"Entry point for launching an IPython kernel.\n"
     ]
    }
   ],
   "source": [
    "rev1['target']=np.where(rev1['useful']>0, 1, 0)"
   ]
  },
  {
   "cell_type": "code",
   "execution_count": 6,
   "metadata": {},
   "outputs": [],
   "source": [
    "rev1=rev1.reset_index()"
   ]
  },
  {
   "cell_type": "markdown",
   "metadata": {},
   "source": [
    "Tokenize and remove stop words"
   ]
  },
  {
   "cell_type": "code",
   "execution_count": 7,
   "metadata": {},
   "outputs": [],
   "source": [
    "rev1['tokenized_text'] = rev1['text'].apply(lambda x:x.lower()).apply(word_tokenize) \n",
    "punctuation = list(string.punctuation)\n",
    "stopWords = set(stopwords.words('english'))\n",
    "docs=list(rev1['tokenized_text'])\n"
   ]
  },
  {
   "cell_type": "code",
   "execution_count": 8,
   "metadata": {},
   "outputs": [],
   "source": [
    "filtered_docs=[]\n",
    "for i in docs:\n",
    "    filt = []\n",
    "    for w in i:\n",
    "        if w.lower()not in stopWords and w not in punctuation:\n",
    "            filt.append(w)\n",
    "    filtered_docs.append(filt)\n",
    "\n",
    "#nlp = en_core_web_sm.load()\n",
    "\n",
    "final_txt=filtered_docs"
   ]
  },
  {
   "cell_type": "markdown",
   "metadata": {},
   "source": [
    "Generate wor2vec model"
   ]
  },
  {
   "cell_type": "code",
   "execution_count": 9,
   "metadata": {},
   "outputs": [],
   "source": [
    " model = gensim.models.Word2Vec(final_txt, min_count=1, \\\n",
    "                                       workers=18, \\\n",
    "                                       window=10, \\\n",
    "                                       size=150, \\\n",
    "                                       hs=1, \\\n",
    "                                       negative=5, \\\n",
    "                                       sg=0, \\\n",
    "                                       iter=10)"
   ]
  },
  {
   "cell_type": "code",
   "execution_count": 10,
   "metadata": {},
   "outputs": [],
   "source": [
    "model.wv.save_word2vec_format('embedding.txt')"
   ]
  },
  {
   "cell_type": "code",
   "execution_count": 11,
   "metadata": {},
   "outputs": [],
   "source": [
    "def word2idx(word):\n",
    "    return model.wv.vocab[word].index\n",
    "\n",
    "def idx2word(idx):\n",
    "    return model.wv.index2word[idx]"
   ]
  },
  {
   "cell_type": "code",
   "execution_count": 12,
   "metadata": {},
   "outputs": [],
   "source": [
    "max_sentence_len=100"
   ]
  },
  {
   "cell_type": "code",
   "execution_count": 13,
   "metadata": {},
   "outputs": [
    {
     "name": "stderr",
     "output_type": "stream",
     "text": [
      "/home/vishwa/anaconda3/lib/python3.6/site-packages/h5py/__init__.py:36: FutureWarning: Conversion of the second argument of issubdtype from `float` to `np.floating` is deprecated. In future, it will be treated as `np.float64 == np.dtype(float).type`.\n",
      "  from ._conv import register_converters as _register_converters\n",
      "Using TensorFlow backend.\n"
     ]
    }
   ],
   "source": [
    "from keras.preprocessing.text import Tokenizer\n",
    "from keras.preprocessing.sequence import pad_sequences\n"
   ]
  },
  {
   "cell_type": "markdown",
   "metadata": {},
   "source": [
    "Conver reviews to Sequence"
   ]
  },
  {
   "cell_type": "code",
   "execution_count": 15,
   "metadata": {},
   "outputs": [],
   "source": [
    "token_obj=Tokenizer()\n",
    "token_obj.fit_on_texts(final_txt)\n",
    "sequence=token_obj.texts_to_sequences(final_txt)"
   ]
  },
  {
   "cell_type": "code",
   "execution_count": 16,
   "metadata": {},
   "outputs": [],
   "source": [
    "word_index=token_obj.word_index"
   ]
  },
  {
   "cell_type": "markdown",
   "metadata": {},
   "source": [
    "Perform padding to reduce the review length to 100"
   ]
  },
  {
   "cell_type": "code",
   "execution_count": 17,
   "metadata": {},
   "outputs": [],
   "source": [
    "rev_pad=pad_sequences(sequence,maxlen=max_sentence_len)"
   ]
  },
  {
   "cell_type": "markdown",
   "metadata": {},
   "source": [
    "Create test train split"
   ]
  },
  {
   "cell_type": "code",
   "execution_count": 19,
   "metadata": {},
   "outputs": [],
   "source": [
    "validation_split=.3\n",
    "indices=np.arange(rev_pad.shape[0])\n",
    "np.random.shuffle(indices)\n",
    "label=rev1['target'][indices]"
   ]
  },
  {
   "cell_type": "code",
   "execution_count": null,
   "metadata": {},
   "outputs": [],
   "source": []
  },
  {
   "cell_type": "code",
   "execution_count": 20,
   "metadata": {},
   "outputs": [
    {
     "data": {
      "text/plain": [
       "10903"
      ]
     },
     "execution_count": 20,
     "metadata": {},
     "output_type": "execute_result"
    }
   ],
   "source": [
    "num_val_samp=int(validation_split*rev_pad.shape[0])\n",
    "num_val_samp"
   ]
  },
  {
   "cell_type": "code",
   "execution_count": 21,
   "metadata": {},
   "outputs": [],
   "source": [
    "X_train=rev_pad[:-num_val_samp]\n",
    "X_test=rev_pad[-num_val_samp:]\n",
    "y_train=label[:-num_val_samp]\n",
    "y_test=label[-num_val_samp:]"
   ]
  },
  {
   "cell_type": "code",
   "execution_count": 22,
   "metadata": {},
   "outputs": [],
   "source": [
    "vocab_size=len(corpus)+1"
   ]
  },
  {
   "cell_type": "markdown",
   "metadata": {},
   "source": [
    "Create embedding_matrix from the word2vec model"
   ]
  },
  {
   "cell_type": "markdown",
   "metadata": {},
   "source": [
    "\n",
    "embedding_matrix = np.zeros((vocab_size, 150))\n",
    "for word, i in token_obj.word_index.items():\n",
    "    embedding_vector = model[word]\n",
    "    if embedding_vector is not None:\n",
    "        embedding_matrix[i] = embedding_vector"
   ]
  },
  {
   "cell_type": "code",
   "execution_count": 24,
   "metadata": {},
   "outputs": [],
   "source": [
    "from tensorflow.keras.models import Sequential\n",
    "from tensorflow.keras.layers import Dense,LSTM,GRU,Embedding\n"
   ]
  },
  {
   "cell_type": "markdown",
   "metadata": {},
   "source": [
    "Create the keras metric function"
   ]
  },
  {
   "cell_type": "code",
   "execution_count": 25,
   "metadata": {},
   "outputs": [],
   "source": [
    "def as_keras_metric(method):\n",
    "    import functools\n",
    "    from tensorflow.python.keras import backend as K\n",
    "    import tensorflow as tf\n",
    "    @functools.wraps(method)\n",
    "    def wrapper(self, args, **kwargs):\n",
    "        \"\"\" Wrapper for turning tensorflow metrics into keras metrics \"\"\"\n",
    "        value, update_op = method(self, args, **kwargs)\n",
    "        K.get_session().run(tf.local_variables_initializer())\n",
    "        with tf.control_dependencies([update_op]):\n",
    "            value = tf.identity(value)\n",
    "        return value\n",
    "    return wrapper"
   ]
  },
  {
   "cell_type": "code",
   "execution_count": 26,
   "metadata": {},
   "outputs": [],
   "source": [
    "#from tensorflow.keras import backend\n",
    "#from tensorflow.python.keras import backend as k\n",
    "import tensorflow as tf\n",
    "auc_roc = as_keras_metric(tf.metrics.auc)\n",
    "recall = as_keras_metric(tf.metrics.recall)"
   ]
  },
  {
   "cell_type": "markdown",
   "metadata": {},
   "source": [
    "Running the GRU Neural Network model"
   ]
  },
  {
   "cell_type": "code",
   "execution_count": 27,
   "metadata": {},
   "outputs": [],
   "source": [
    "smodel=Sequential()"
   ]
  },
  {
   "cell_type": "code",
   "execution_count": 28,
   "metadata": {},
   "outputs": [],
   "source": [
    "emb_layer = Embedding(vocab_size, 150, weights=[embedding_matrix], input_length=max_sentence_len, trainable=False)"
   ]
  },
  {
   "cell_type": "code",
   "execution_count": 29,
   "metadata": {},
   "outputs": [],
   "source": [
    "smodel.add(emb_layer)"
   ]
  },
  {
   "cell_type": "code",
   "execution_count": 30,
   "metadata": {},
   "outputs": [],
   "source": [
    "smodel.add(GRU(units=64,dropout=.2,recurrent_dropout=.2))"
   ]
  },
  {
   "cell_type": "code",
   "execution_count": 31,
   "metadata": {},
   "outputs": [
    {
     "name": "stdout",
     "output_type": "stream",
     "text": [
      "_________________________________________________________________\n",
      "Layer (type)                 Output Shape              Param #   \n",
      "=================================================================\n",
      "embedding (Embedding)        (None, 100, 150)          6804900   \n",
      "_________________________________________________________________\n",
      "gru (GRU)                    (None, 64)                41280     \n",
      "_________________________________________________________________\n",
      "dense (Dense)                (None, 1)                 65        \n",
      "=================================================================\n",
      "Total params: 6,846,245\n",
      "Trainable params: 41,345\n",
      "Non-trainable params: 6,804,900\n",
      "_________________________________________________________________\n"
     ]
    }
   ],
   "source": [
    "smodel.add(Dense(units=1, activation='sigmoid'))\n",
    "smodel.compile(loss='binary_crossentropy', optimizer='adam', metrics=[auc_roc])\n",
    "smodel.summary()"
   ]
  },
  {
   "cell_type": "code",
   "execution_count": 32,
   "metadata": {},
   "outputs": [
    {
     "name": "stdout",
     "output_type": "stream",
     "text": [
      "Train on 24170 samples, validate on 1273 samples\n",
      "Epoch 1/10\n",
      "24170/24170 [==============================] - 167s 7ms/step - loss: 0.6981 - auc: 0.4864 - val_loss: 0.6847 - val_auc: 0.4970\n",
      "Epoch 2/10\n",
      "24170/24170 [==============================] - 156s 6ms/step - loss: 0.6822 - auc: 0.5065 - val_loss: 0.6842 - val_auc: 0.5108\n",
      "Epoch 3/10\n",
      "24170/24170 [==============================] - 162s 7ms/step - loss: 0.6745 - auc: 0.5184 - val_loss: 0.6869 - val_auc: 0.5244\n",
      "Epoch 4/10\n",
      "24170/24170 [==============================] - 168s 7ms/step - loss: 0.6705 - auc: 0.5312 - val_loss: 0.6880 - val_auc: 0.5357\n",
      "Epoch 5/10\n",
      "24170/24170 [==============================] - 153s 6ms/step - loss: 0.6667 - auc: 0.5412 - val_loss: 0.6862 - val_auc: 0.5453\n",
      "Epoch 6/10\n",
      "24170/24170 [==============================] - 152s 6ms/step - loss: 0.6612 - auc: 0.5510 - val_loss: 0.6923 - val_auc: 0.5547\n",
      "Epoch 7/10\n",
      "24170/24170 [==============================] - 149s 6ms/step - loss: 0.6563 - auc: 0.5601 - val_loss: 0.6942 - val_auc: 0.5639\n",
      "Epoch 8/10\n",
      "24170/24170 [==============================] - 142s 6ms/step - loss: 0.6483 - auc: 0.5691 - val_loss: 0.6982 - val_auc: 0.5735\n",
      "Epoch 9/10\n",
      "24170/24170 [==============================] - 133s 6ms/step - loss: 0.6421 - auc: 0.5783 - val_loss: 0.7003 - val_auc: 0.5824\n",
      "Epoch 10/10\n",
      "24170/24170 [==============================] - 94s 4ms/step - loss: 0.6356 - auc: 0.5871 - val_loss: 0.7097 - val_auc: 0.5910\n"
     ]
    },
    {
     "data": {
      "text/plain": [
       "<tensorflow.python.keras.callbacks.History at 0x7fb40449e4a8>"
      ]
     },
     "execution_count": 32,
     "metadata": {},
     "output_type": "execute_result"
    }
   ],
   "source": [
    "smodel.fit(X_train, y_train, epochs=10, batch_size=128, validation_split=0.05, verbose=1)"
   ]
  },
  {
   "cell_type": "code",
   "execution_count": 33,
   "metadata": {},
   "outputs": [
    {
     "name": "stdout",
     "output_type": "stream",
     "text": [
      "Accuracy of model on test data:  0.502295369252242\n",
      "Confusion Matrix: \n",
      " [[4635 1794]\n",
      " [3205 1269]]\n"
     ]
    }
   ],
   "source": [
    "y_pred=smodel.predict_classes(X_test)\n",
    "from sklearn.metrics import confusion_matrix,accuracy_score,roc_auc_score\n",
    "print('Accuracy of model on test data: ',roc_auc_score(y_test,y_pred))\n",
    "print('Confusion Matrix: \\n',confusion_matrix(y_test,y_pred))"
   ]
  },
  {
   "cell_type": "code",
   "execution_count": null,
   "metadata": {},
   "outputs": [],
   "source": []
  }
 ],
 "metadata": {
  "kernelspec": {
   "display_name": "Python 3",
   "language": "python",
   "name": "python3"
  },
  "language_info": {
   "codemirror_mode": {
    "name": "ipython",
    "version": 3
   },
   "file_extension": ".py",
   "mimetype": "text/x-python",
   "name": "python",
   "nbconvert_exporter": "python",
   "pygments_lexer": "ipython3",
   "version": "3.6.5"
  }
 },
 "nbformat": 4,
 "nbformat_minor": 2
}
